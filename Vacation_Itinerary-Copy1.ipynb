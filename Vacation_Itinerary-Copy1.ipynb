{
 "cells": [
  {
   "cell_type": "code",
   "execution_count": null,
   "metadata": {},
   "outputs": [],
   "source": [
    "# Import the dependencies.\n",
    "import pandas as pd\n",
    "import gmaps\n",
    "import requests\n",
    "import gmaps.datasets\n",
    "# Import the API key.\n",
    "from config import g_key\n",
    "\n",
    "# Configure gmaps to use your Google API key.\n",
    "gmaps.configure(api_key=g_key)\n",
    "\n",
    "import ipywidgets as widgets\n",
    "import geopy"
   ]
  },
  {
   "cell_type": "code",
   "execution_count": null,
   "metadata": {},
   "outputs": [],
   "source": [
    "\n",
    "# Store the Challenge CSV you saved created in part one into a DataFrame.\n",
    "hotel_df = pd.read_csv(\"weather_data/WeatherPy_vacation.csv\")\n",
    "\n",
    "#Create Infobox\n",
    "info_box_template = \"\"\"\n",
    "<dl>\n",
    "<dt>Hotel Name</dt><dd>{Hotel Name}</dd>\n",
    "<dt>City</dt><dd>{City}</dd>\n",
    "<dt>Country</dt><dd>{Country}</dd>\n",
    "<dt>Current Weather</dt><dd>{description} and {Max Temp}°F</dd>\n",
    "</dl>\n",
    "\"\"\"\n",
    "\n",
    "hotel_info = [info_box_template.format(**row) for index, row in hotel_df.iterrows()]"
   ]
  },
  {
   "cell_type": "code",
   "execution_count": null,
   "metadata": {},
   "outputs": [],
   "source": [
    "\n",
    "#Create Map\n",
    "locations = hotel_df[[\"Lat\", \"Lng\"]]\n",
    "max_temp = hotel_df[\"Max Temp\"]\n",
    "fig = gmaps.figure(center=(30.0, 31.0), zoom_level=1.5)\n",
    "heat_layer = gmaps.heatmap_layer(locations, weights=max_temp,dissipating=False,\n",
    "             max_intensity=300, point_radius=4)\n",
    "marker_layer = gmaps.marker_layer(locations, info_box_content=hotel_info)\n",
    "#fig.add_layer(heat_layer)\n",
    "fig.add_layer(marker_layer)\n",
    "\n",
    "# Call the figure to plot the data.\n",
    "fig"
   ]
  },
  {
   "cell_type": "code",
   "execution_count": null,
   "metadata": {},
   "outputs": [],
   "source": [
    "\n",
    "city1=input(\"What is your start city? \")\n",
    "city2=input(\"What is your destination city? \")\n",
    "city3=input(\"What is your first stop? \")\n",
    "city4=input(\"What is your second stop? \")"
   ]
  },
  {
   "cell_type": "code",
   "execution_count": null,
   "metadata": {},
   "outputs": [],
   "source": [
    "\n",
    "city1_df=hotel_df.loc[(hotel_df[\"City\"] ==city1)]\n",
    "city2_df=hotel_df.loc[(hotel_df[\"City\"] ==city2)]\n",
    "city3_df=hotel_df.loc[(hotel_df[\"City\"] ==city3)]\n",
    "city4_df=hotel_df.loc[(hotel_df[\"City\"] ==city4)]\n",
    "\n",
    "city_all_df=hotel_df.loc[((hotel_df[\"City\"] ==city1) | (hotel_df[\"City\"] == city2) | (hotel_df[\"City\"] == city3) | (hotel_df[\"City\"] == city4))]\n",
    "\n",
    "#Create Infobox\n",
    "direction_box_template = \"\"\"\n",
    "<dl>\n",
    "<dt>Hotel Name</dt><dd>{Hotel Name}</dd>\n",
    "<dt>City</dt><dd>{City}</dd>\n",
    "<dt>Country</dt><dd>{Country}</dd>\n",
    "<dt>Current Weather</dt><dd>{description} and {Max Temp}°F</dd>\n",
    "</dl>\n",
    "\"\"\"\n",
    "\n",
    "direction_info = [direction_box_template.format(**row) for index, row in city_all_df.iterrows()]\n",
    "direction_info"
   ]
  },
  {
   "cell_type": "code",
   "execution_count": null,
   "metadata": {},
   "outputs": [],
   "source": [
    "\n",
    "dir_locations = city_all_df[[\"Lat\", \"Lng\"]]\n",
    "dir_locations"
   ]
  },
  {
   "cell_type": "code",
   "execution_count": null,
   "metadata": {},
   "outputs": [],
   "source": [
    "\n",
    "# Latitude-longitude pairs\n",
    "city1_loc=(city1_df['Lat'].max(), city1_df['Lng'].max())\n",
    "city2_loc=(city2_df['Lat'].max(), city2_df['Lng'].max())\n",
    "city3_loc=(city3_df['Lat'].max(), city3_df['Lng'].max())\n",
    "city4_loc=(city4_df['Lat'].max(), city4_df['Lng'].max())\n",
    "dir_locations = city_all_df[[\"Lat\", \"Lng\"]]\n",
    "\n",
    "#city 1 Infobox\n",
    "#Create Infobox\n",
    "info_box_city1 = \"\"\"\n",
    "<dl>\n",
    "<dt>Hotel Name</dt><dd>{Hotel Name}</dd>\n",
    "<dt>City</dt><dd>{City}</dd>\n",
    "<dt>Country</dt><dd>{Country}</dd>\n",
    "<dt>Current Weather</dt><dd>{description} and {Max Temp}°F</dd>\n",
    "</dl>\n",
    "\"\"\"\n",
    "\n",
    "hotel_info = [info_box_template.format(**row) for index, row in hotel_df.iterrows()]\n",
    "\n",
    "fig = gmaps.figure()\n",
    "directions = gmaps.directions_layer(city1_loc, city2_loc, waypoints=[city3_loc, city4_loc], travel_mode='DRIVING')\n",
    "dir_marker_layer = gmaps.marker_layer(dir_locations, info_box_content=direction_info)\n",
    "fig.add_layer(dir_marker_layer)\n",
    "fig.add_layer(directions)\n",
    "fig\n"
   ]
  },
  {
   "cell_type": "code",
   "execution_count": null,
   "metadata": {},
   "outputs": [],
   "source": [
    "\n",
    "fig = gmaps.figure()\n",
    "dir_marker_layer = gmaps.marker_layer(dir_locations, info_box_content=direction_info)\n",
    "fig.add_layer(dir_marker_layer)\n",
    "fig\n"
   ]
  },
  {
   "cell_type": "code",
   "execution_count": null,
   "metadata": {},
   "outputs": [],
   "source": []
  },
  {
   "cell_type": "code",
   "execution_count": null,
   "metadata": {},
   "outputs": [],
   "source": []
  },
  {
   "cell_type": "code",
   "execution_count": null,
   "metadata": {},
   "outputs": [],
   "source": []
  }
 ],
 "metadata": {
  "kernelspec": {
   "display_name": "PythonData",
   "language": "python",
   "name": "pythondata"
  },
  "language_info": {
   "codemirror_mode": {
    "name": "ipython",
    "version": 3
   },
   "file_extension": ".py",
   "mimetype": "text/x-python",
   "name": "python",
   "nbconvert_exporter": "python",
   "pygments_lexer": "ipython3",
   "version": "3.7.9"
  }
 },
 "nbformat": 4,
 "nbformat_minor": 4
}
